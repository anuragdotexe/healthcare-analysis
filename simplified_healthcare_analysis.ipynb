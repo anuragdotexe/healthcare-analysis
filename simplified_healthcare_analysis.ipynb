{
 "cells": [
  {
   "cell_type": "code",
   "execution_count": null,
   "id": "51a91129",
   "metadata": {},
   "outputs": [],
   "source": [
    "import pandas as pd\n",
    "import numpy as np\n",
    "import matplotlib.pyplot as plt\n",
    "import matplotlib.ticker as ticker\n",
    "import locale\n",
    "from datetime import datetime"
   ]
  },
  {
   "cell_type": "code",
   "execution_count": null,
   "id": "519de7ed",
   "metadata": {},
   "outputs": [],
   "source": [
    "# format numbers to show two decimal places\n",
    "pd.options.display.float_format = '{:.2f}'.format\n",
    "\n",
    "# change the language to convert the columns para information\n",
    "locale.setlocale(locale.LC_ALL , 'pt_BR.UTF-8')\n",
    "\n",
    "# settings de cores\n",
    "GRAY1, GRAY2, GRAY3 = '#231F20', '#414040', '#555655'\n",
    "GRAY4, GRAY5, GRAY6 = '#646369', '#76787B', '#828282'\n",
    "GRAY7, GRAY8, GRAY9 = '#929497', '#A6A6A5', '#BFBEBE'\n",
    "BLUE1, BLUE2, BLUE3, BLUE4 = '#174A7E', '#4A81BF', '#94B2D7', '#94AFC5'\n",
    "RED1, RED2 = '#C3514E', '#E6BAB7'\n",
    "GREEN1, GREEN2 = '#0C8040', '#9ABB59'\n",
    "ORANGE1 = '#F79747'\n",
    "\n",
    "# settings of the font used in the graphs\n",
    "plt.rcParams['font.family'] = 'Arial'\n",
    "plt.rcParams['mathtext.fontset'] = 'custom'\n",
    "plt.rcParams['mathtext.bf'] = 'Arial:bold'\n",
    "plt.rcParams['mathtext.it'] = 'Arial:italic'"
   ]
  },
  {
   "cell_type": "code",
   "execution_count": null,
   "id": "d8b12f26",
   "metadata": {},
   "outputs": [],
   "source": [
    "# import the file of the number of hospitalizations in Brazil\n",
    "internacoes = pd.read_csv('../data/internacoes_brasil.csv', sep = ';', encoding = 'ISO-8859-1', skiprows = 3,\n",
    "                            skipfooter = 12, thousands = '.', decimal = ',', engine = 'python')"
   ]
  },
  {
   "cell_type": "code",
   "execution_count": null,
   "id": "485f8297",
   "metadata": {},
   "outputs": [],
   "source": [
    "internacoes.head(3)"
   ]
  },
  {
   "cell_type": "code",
   "execution_count": null,
   "id": "9a78fe05",
   "metadata": {},
   "outputs": [],
   "source": [
    "internacoes.tail(3)"
   ]
  },
  {
   "cell_type": "code",
   "execution_count": null,
   "id": "c96f3ee7",
   "metadata": {},
   "outputs": [],
   "source": [
    "print(\"Here is the result: \", 'O dataframe \\'internacoes\\' possui {} linhas e {} colunas.'.format(internacoes.shape[0], internacoes.shape[1]))"
   ]
  },
  {
   "cell_type": "code",
   "execution_count": null,
   "id": "3980a0bb",
   "metadata": {},
   "outputs": [],
   "source": [
    "print(\"Here is the result: \", 'A posição da coluna \\'2008/Jan\\' é a {}.'.format(internacoes.columns.get_loc('2008/Jan')))"
   ]
  },
  {
   "cell_type": "code",
   "execution_count": null,
   "id": "6afb7e47",
   "metadata": {},
   "outputs": [],
   "source": [
    "# cópia do dataframe original\n",
    "interns = internacoes.copy()\n",
    "\n",
    "# colocando a UF como indíce\n",
    "interns = interns.set_index('Unidade da Federação').rename_axis(None)\n",
    "\n",
    "# removendo as colunas (até a 12, pois tiramos uma coluna, a da UF)\n",
    "interns = interns.drop(interns.columns[:12], axis = 1)"
   ]
  },
  {
   "cell_type": "code",
   "execution_count": null,
   "id": "117bc33b",
   "metadata": {},
   "outputs": [],
   "source": [
    "interns.head(3)"
   ]
  },
  {
   "cell_type": "code",
   "execution_count": null,
   "id": "d0dbeb9b",
   "metadata": {},
   "outputs": [],
   "source": [
    "print(\"Here is the result: \", 'Agora o dataframe \\'aih\\' possui {} linhas e {} colunas.'.format(interns.shape[0], interns.shape[1]))"
   ]
  },
  {
   "cell_type": "code",
   "execution_count": null,
   "id": "613f597c",
   "metadata": {},
   "outputs": [],
   "source": [
    "interns.info()"
   ]
  },
  {
   "cell_type": "code",
   "execution_count": null,
   "id": "3775a21b",
   "metadata": {},
   "outputs": [],
   "source": [
    "# separar por regiões\n",
    "norte = interns.index[:7].tolist()\n",
    "nordeste = interns.index[7:16].tolist()\n",
    "sudeste = interns.index[16:20].tolist()\n",
    "sul = interns.index[20:23].tolist()\n",
    "centro_oeste = interns.index[23:].tolist()"
   ]
  },
  {
   "cell_type": "code",
   "execution_count": null,
   "id": "6a5bae3a",
   "metadata": {},
   "outputs": [],
   "source": [
    "# criar um novo set of information para facilitar a plotagem dos dados\n",
    "internas = interns.copy()\n",
    "internas = internas.sort_values(by = 'Total', ascending = False)\n",
    "internas = internas.drop('Total', axis = 1)\n",
    "internas.columns = pd.to_datetime(internas.columns, format='%Y/%b')"
   ]
  },
  {
   "cell_type": "code",
   "execution_count": null,
   "id": "e4fdc08d",
   "metadata": {},
   "outputs": [],
   "source": [
    "fig, axes = plt.subplots(2, 3, sharey = True, figsize = (22, 15))\n",
    "\n",
    "fig.text(0.085, 0.95, '$\\\\bf{Número\\ de\\ Internações\\ por\\ Região\\ do\\ Brasil\\ de\\ Jan/2008\\ a\\ Mar/2021}$',\n",
    "         fontsize = 25, color = GRAY4)\n",
    "\n",
    "axes[1, 2].set_visible(False)\n",
    "\n",
    "internas.loc[norte].T.plot(ax = axes[0, 0], colormap = 'tab10')\n",
    "axes[0, 0].set_title('Região North', loc = 'left', fontsize = 19, color = GRAY4)\n",
    "axes[0, 0].yaxis.set_major_formatter(ticker.StrMethodFormatter('{x:,.2f}'))\n",
    "axes[0, 0].spines['bottom'].set_color('darkgrey')\n",
    "axes[0, 0].spines['left'].set_color('darkgrey')\n",
    "axes[0, 0].spines['right'].set_visible(False)\n",
    "axes[0, 0].spines['top'].set_visible(False)\n",
    "\n",
    "internas.loc[nordeste].T.plot(ax = axes[0, 1], colormap = 'tab10')\n",
    "axes[0, 1].set_title('Região Northeast', loc = 'left', fontsize = 19, color = GRAY4)\n",
    "axes[0, 1].spines['bottom'].set_color('darkgrey')\n",
    "axes[0, 1].spines['left'].set_color('darkgrey')\n",
    "axes[0, 1].spines['right'].set_visible(False)\n",
    "axes[0, 1].spines['top'].set_visible(False)\n",
    "\n",
    "internas.loc[sudeste].T.plot(ax = axes[0, 2], colormap = 'tab10')\n",
    "axes[0, 2].set_title('Região Southeast', loc = 'left', fontsize = 19, color = GRAY4)\n",
    "axes[0, 2].spines['bottom'].set_color('darkgrey')\n",
    "axes[0, 2].spines['left'].set_color('darkgrey')\n",
    "axes[0, 2].spines['right'].set_visible(False)\n",
    "axes[0, 2].spines['top'].set_visible(False)\n",
    "\n",
    "internas.loc[sul].T.plot(ax = axes[1, 0], colormap = 'tab10')\n",
    "axes[1, 0].set_title('Região South', loc = 'left', fontsize = 19, color = GRAY4)\n",
    "axes[1, 0].spines['bottom'].set_color('darkgrey')\n",
    "axes[1, 0].spines['left'].set_color('darkgrey')\n",
    "axes[1, 0].spines['right'].set_visible(False)\n",
    "axes[1, 0].spines['top'].set_visible(False)\n",
    "\n",
    "internas.loc[centro_oeste].T.plot(ax = axes[1, 1], colormap = 'tab10')\n",
    "axes[1, 1].set_title('Região Midwest', loc = 'left', fontsize = 19, color = GRAY4)\n",
    "axes[1, 1].spines['bottom'].set_color('darkgrey')\n",
    "axes[1, 1].spines['left'].set_color('darkgrey')\n",
    "axes[1, 1].spines['right'].set_visible(False)\n",
    "axes[1, 1].spines['top'].set_visible(False)\n",
    "\n",
    "axes[1, 0].set_position([0.24, 0.125, 0.228, 0.343])\n",
    "axes[1, 1].set_position([0.55, 0.125, 0.228, 0.343])\n",
    "\n",
    "#plt.savefig('1.jpg')\n",
    "\n",
    "plt.show()"
   ]
  },
  {
   "cell_type": "code",
   "execution_count": null,
   "id": "ee6dd16b",
   "metadata": {},
   "outputs": [],
   "source": [
    "# o set of information \"internas\" já está ordenado pelo valor total (somamos 1 pois a contagem se inicia no 0)\n",
    "print(\"Here is the result: \", 'A posição do Ceará no número de internações no Brasil é: {}.'.format(internas.index.get_loc('23 Ceará') + 1))"
   ]
  },
  {
   "cell_type": "code",
   "execution_count": null,
   "id": "a5abe4d3",
   "metadata": {},
   "outputs": [],
   "source": [
    "internacoes_ord = internas.copy()\n",
    "internacoes_ord['Total'] = internacoes_ord.sum(axis = 1)\n",
    "internacoes_ord = internacoes_ord['Total']"
   ]
  },
  {
   "cell_type": "code",
   "execution_count": null,
   "id": "887aa34e",
   "metadata": {},
   "outputs": [],
   "source": [
    "cores = []\n",
    "for value in internacoes_ord.keys():\n",
    "    if '23 Ceará' == value:\n",
    "        cores.append(ORANGE1)\n",
    "    else:\n",
    "        cores.append(BLUE4)\n",
    "cores.reverse()\n",
    "\n",
    "ax = internacoes_ord.sort_values(ascending = True).plot(kind = 'barh', figsize = (15, 10), color = cores)\n",
    "\n",
    "ax.xaxis.set_major_formatter(ticker.StrMethodFormatter('{x:,.0f}'))\n",
    "ax.tick_params(color = 'darkgrey', bottom = 'off')\n",
    "ax.spines['bottom'].set_color('darkgrey')\n",
    "ax.spines['left'].set_color('darkgrey')\n",
    "ax.spines['right'].set_visible(False)\n",
    "ax.spines['top'].set_visible(False)\n",
    "\n",
    "for i in ax.get_yticklabels() + ax.get_xticklabels():\n",
    "    i.set_fontsize(12)\n",
    "    i.set_color(GRAY5)\n",
    "    \n",
    "# remover o número do nome dos Estados\n",
    "ax.set_yticklabels([k[3:] for k in internacoes_ord.index.to_list()[::-1]])\n",
    "    \n",
    "plt.text(-7000000, 28.5, '$\\\\bf{Número\\ Total\\ de\\ Internações\\ por\\ Estado\\ do\\ Brasil}$',\n",
    "         fontsize = 20, color = GRAY4)\n",
    "plt.text(-7000000, 27.3, 'Somatório do período de Jan/2008 a Mar/2021',\n",
    "         fontsize = 18, color = GRAY6)\n",
    "\n",
    "plt.text(-7000000, 23.7, 'Estado', fontsize = 18, rotation = 'vertical', color = GRAY6)\n",
    "plt.text(455, -3, 'Número de Internações', fontsize = 18, color = GRAY6)\n",
    "\n",
    "plt.show()"
   ]
  },
  {
   "cell_type": "code",
   "execution_count": null,
   "id": "76a80c9d",
   "metadata": {},
   "outputs": [],
   "source": [
    "internas_total = internas.copy()\n",
    "internas_total['Soma'] = internas_total.sum(axis = 1)\n",
    "internas_total['Porcentagem'] = (internas_total['Soma'] / internas_total['Soma'].sum()) * 100"
   ]
  },
  {
   "cell_type": "code",
   "execution_count": null,
   "id": "63d75246",
   "metadata": {},
   "outputs": [],
   "source": [
    "print('A quantidade de internações no Ceará corresponde a {:.2f}% do total do Brasil, \\\n",
    "       \\nou seja, {} internações no período de Jan/2008 a  Mar/2021.'.format(internas_total['Porcentagem']['23 Ceará'], internas_total['Soma']['23 Ceará']))"
   ]
  },
  {
   "cell_type": "code",
   "execution_count": null,
   "id": "1008a534",
   "metadata": {},
   "outputs": [],
   "source": [
    "# outro dataframe para auxiliar na plotagem\n",
    "internas = internas.T"
   ]
  },
  {
   "cell_type": "code",
   "execution_count": null,
   "id": "5dfad80f",
   "metadata": {},
   "outputs": [],
   "source": [
    "internas['Northeast'] = internas[nordeste].sum(axis = 1)\n",
    "internas['North'] = internas[norte].sum(axis = 1)\n",
    "internas['Southeast'] = internas[sudeste].sum(axis = 1)\n",
    "internas['South'] = internas[sul].sum(axis = 1)\n",
    "internas['Centro_Oeste'] = internas[centro_oeste].sum(axis = 1)\n",
    "\n",
    "internas = internas[['Northeast', 'North', 'Southeast', 'South', 'Centro_Oeste']]\n",
    "\n",
    "internas.head()"
   ]
  },
  {
   "cell_type": "code",
   "execution_count": null,
   "id": "0c8d3724",
   "metadata": {},
   "outputs": [],
   "source": [
    "ax = internas.plot(figsize = (15, 10))\n",
    "\n",
    "ax.tick_params(color = 'darkgrey', bottom = 'off')\n",
    "ax.spines['bottom'].set_color('darkgrey')\n",
    "ax.spines['left'].set_color('darkgrey')\n",
    "ax.spines['right'].set_visible(False)\n",
    "ax.spines['top'].set_visible(False)\n",
    "\n",
    "for i in ax.get_yticklabels() + ax.get_xticklabels():\n",
    "    i.set_fontsize(14)\n",
    "    i.set_color(GRAY5)\n",
    "\n",
    "\n",
    "plt.text(440, 490000, '$\\\\bf{Número\\ de\\ Internações\\ por\\ Região\\ do\\ Brasil}$',\n",
    "         fontsize = 20, color = GRAY4)\n",
    "plt.text(440, 470000, 'No período de Jan/2008 a Mar/2021',\n",
    "         fontsize = 18, color = GRAY6)\n",
    "\n",
    "plt.text(440, 250000, 'Quantidade de Internações', fontsize = 20, rotation = 'vertical', color = GRAY6)\n",
    "plt.text(455, -35000, 'Period', fontsize = 20, color = GRAY6)\n",
    "\n",
    "plt.text(615, 260000, 'Southeast', fontsize = 18, color = 'green')\n",
    "plt.text(615, 170000, 'Northeast', fontsize = 18, color = 'blue')\n",
    "plt.text(615, 90000, 'South', fontsize = 18, color = 'red')\n",
    "plt.text(615, 45000, 'North', fontsize = 18, color = 'orange')\n",
    "plt.text(615, 30000, 'Midwest', fontsize = 18, color = 'purple')\n",
    "\n",
    "ax.get_legend().remove()\n",
    "\n",
    "plt.show()"
   ]
  },
  {
   "cell_type": "code",
   "execution_count": null,
   "id": "90b22428",
   "metadata": {},
   "outputs": [],
   "source": [
    "internas = internas.T"
   ]
  },
  {
   "cell_type": "code",
   "execution_count": null,
   "id": "61fe144b",
   "metadata": {},
   "outputs": [],
   "source": [
    "internas['Soma'] = internas.sum(axis = 1)\n",
    "internas['Porcentagem'] = (internas['Soma'] / internas['Soma'].sum()) * 100\n",
    "internas"
   ]
  },
  {
   "cell_type": "code",
   "execution_count": null,
   "id": "5b381a1a",
   "metadata": {},
   "outputs": [],
   "source": [
    "print(\"Here is the result: \", 'A Região Northeast possui {:.2f}% do total de internações do país no período analisado.'.format(internas['Porcentagem']['Northeast']))"
   ]
  },
  {
   "cell_type": "code",
   "execution_count": null,
   "id": "b0f824e4",
   "metadata": {},
   "outputs": [],
   "source": [
    "internacoes_nordeste = interns.loc[nordeste].sort_values(by = 'Total', ascending = False)\n",
    "internacoes_nordeste = internacoes_nordeste.drop('Total', axis = 1)\n",
    "internacoes_nordeste.columns = pd.to_datetime(internacoes_nordeste.columns, format='%Y/%b')"
   ]
  },
  {
   "cell_type": "code",
   "execution_count": null,
   "id": "c76f5862",
   "metadata": {},
   "outputs": [],
   "source": [
    "fig, axes = plt.subplots(3, 3, sharex = True, sharey = True, figsize = (25, 20))\n",
    "\n",
    "palette = plt.get_cmap('tab10')\n",
    "\n",
    "fig.text(0.085, 0.95, '$\\\\bf{Número\\ de\\ Internações\\ por\\ Estado\\ da\\ Região\\ Northeast\\ de\\ Jan/2008\\ a\\ Mar/2021}$',\n",
    "         fontsize = 25, color = GRAY4)\n",
    "fig.text(0.085, 0.933, 'Estados Ordenados pelo Somatório Total de Internações no Period',\n",
    "         fontsize = 20, color = GRAY6)\n",
    "\n",
    "fig.text(0.085, 0.72, 'Quantidade de Internações', fontsize = 20, rotation = 'vertical', color = GRAY4)\n",
    "fig.text(0.12, 0.09, 'Ano/Mês', fontsize = 20, color = GRAY4)\n",
    "\n",
    "num = 0\n",
    "\n",
    "for estado in internacoes_nordeste.index.tolist():\n",
    "    num += 1\n",
    "    plt.subplot(3, 3, num)\n",
    "    ax = internacoes_nordeste.loc[estado].T.plot(color = palette(num))\n",
    "    plt.ylim(0,85000)\n",
    "    if num in range(7) :\n",
    "        plt.tick_params(labelbottom = False)\n",
    "    if num not in [1,4,7] :\n",
    "        plt.tick_params(labelleft = False)\n",
    "    plt.title(estado[3:], loc = 'left', fontsize = 19, color = GRAY4)\n",
    "    \n",
    "    for i in ax.get_yticklabels() + ax.get_xticklabels():\n",
    "        i.set_fontsize(10)\n",
    "        i.set_color(GRAY4)\n",
    "    \n",
    "    ax.tick_params(color = 'darkgrey')\n",
    "    ax.spines['bottom'].set_color('darkgrey')\n",
    "    ax.spines['left'].set_color('darkgrey')\n",
    "    ax.spines['right'].set_visible(False)\n",
    "    ax.spines['top'].set_visible(False)\n",
    "\n",
    "plt.show()"
   ]
  },
  {
   "cell_type": "code",
   "execution_count": null,
   "id": "f261fe70",
   "metadata": {},
   "outputs": [],
   "source": [
    "# dataframe temporário\n",
    "intern_nordeste = internacoes_nordeste.copy()\n",
    "intern_nordeste['Soma'] = intern_nordeste.sum(axis = 1)\n",
    "intern_nordeste['Porcentagem'] = (intern_nordeste['Soma'] / intern_nordeste['Soma'].sum()) * 100"
   ]
  },
  {
   "cell_type": "code",
   "execution_count": null,
   "id": "7364888c",
   "metadata": {},
   "outputs": [],
   "source": [
    "print(\"Here is the result: \", 'O Estado do Ceará possui {:.2f}% das internações totais da Região Northeast no período analisado.'.format(intern_nordeste['Porcentagem']['23 Ceará']))"
   ]
  },
  {
   "cell_type": "code",
   "execution_count": null,
   "id": "8be69d22",
   "metadata": {},
   "outputs": [],
   "source": [
    "internacoes_ceara = internacoes_nordeste.loc['23 Ceará']"
   ]
  },
  {
   "cell_type": "code",
   "execution_count": null,
   "id": "e8a30146",
   "metadata": {},
   "outputs": [],
   "source": [
    "plt.figure(figsize = (12, 10))\n",
    "\n",
    "for estado in internacoes_nordeste.index.tolist():\n",
    "    ax = internacoes_nordeste.loc[estado].T.plot(color = 'lightgrey', linewidth = 1, alpha = 0.8)\n",
    "\n",
    "ax = internacoes_nordeste.loc['23 Ceará'].T.plot(color = BLUE1, linewidth = 2.5, alpha = 0.8)\n",
    "\n",
    "ax.tick_params(color = 'darkgrey')\n",
    "ax.spines['bottom'].set_color('darkgrey')\n",
    "ax.spines['left'].set_color('darkgrey')\n",
    "ax.spines['right'].set_visible(False)\n",
    "ax.spines['top'].set_visible(False)\n",
    "\n",
    "for i in ax.get_yticklabels() + ax.get_xticklabels():\n",
    "    i.set_fontsize(14)\n",
    "    i.set_color(GRAY5)\n",
    "\n",
    "\n",
    "plt.text(435, 90999, '$\\\\bf{Número\\ de\\ Internações\\ no\\ Ceará\\ de\\ Jan/2008\\ a\\ Mar/2021}$',\n",
    "         fontsize = 25, color = GRAY4)\n",
    "plt.text(435, 86999, 'Compared with other States of the Region',\n",
    "         fontsize = 20, color = GRAY6)\n",
    "\n",
    "plt.text(435, 47000, 'Quantidade de Internações', fontsize = 20, rotation = 'vertical', color = GRAY6)\n",
    "plt.text(460, -9000, 'Period', fontsize = 20, color = GRAY6)\n",
    "\n",
    "plt.show()"
   ]
  },
  {
   "cell_type": "code",
   "execution_count": null,
   "id": "9c6ecbe9",
   "metadata": {},
   "outputs": [],
   "source": [
    "fig, axes = plt.subplots(1, 2, sharex = False, sharey = True, figsize = (20, 8))\n",
    "\n",
    "fig.text(0, 1.06, '$\\\\bf{Número\\ de\\ Internações\\ no\\ Ceará\\ de\\ Jan/2008\\ a\\ Mar/2021}$',\n",
    "         fontsize = 25, color = GRAY4)\n",
    "\n",
    "fig.text(0, 1.02, 'Estados Ordenados pelo Total de Internações no Period Indicado',\n",
    "         fontsize = 20, color = GRAY6)\n",
    "\n",
    "internacoes_nordeste.loc['23 Ceará'].T.plot(ax = axes[0], color = BLUE1, linewidth = 2.5, alpha = 0.8)\n",
    "internacoes_nordeste.loc['23 Ceará'].T.plot(ax = axes[1], color = BLUE1, linewidth = 2.5, alpha = 0.8)\n",
    "\n",
    "plt.ylim(0, 50000)\n",
    "axes[0].set_yticks(range(0, 50001, 5000))\n",
    "\n",
    "for i in [0, 1]:\n",
    "    axes[i].tick_params(color = 'darkgrey')\n",
    "    axes[i].spines['bottom'].set_color('darkgrey')\n",
    "    axes[i].spines['left'].set_color('darkgrey')\n",
    "    axes[i].spines['right'].set_visible(False)\n",
    "    axes[i].spines['top'].set_visible(False)\n",
    "    for k in axes[i].get_yticklabels() + axes[i].get_xticklabels():\n",
    "        k.set_fontsize(14)\n",
    "        k.set_color(GRAY5)\n",
    "\n",
    "anos = []\n",
    "for valor in range(2008, 2022):\n",
    "    anos.append(valor)\n",
    "\n",
    "for ano in range(len(anos)):\n",
    "    axes[0].axvspan(datetime(anos[ano],3,1), datetime(anos[ano],6,1), color = BLUE4, alpha = 0.2)\n",
    "    axes[1].axvspan(datetime(anos[ano],10,1), datetime(anos[ano],12,1), color = ORANGE1, alpha = 0.2)\n",
    "    \n",
    "\n",
    "axes[0].set_title('Meses destacados: Mar, Abr, Mai, Jun', loc = 'left', fontsize = 15, color = GRAY4)\n",
    "axes[1].set_title('Meses destacados: Out, Nov, Dez', loc = 'left', fontsize = 15, color = GRAY4)\n",
    "\n",
    "fig.tight_layout()\n",
    "    \n",
    "plt.show()"
   ]
  },
  {
   "cell_type": "code",
   "execution_count": null,
   "id": "730d038b",
   "metadata": {},
   "outputs": [],
   "source": [
    "# número de internações por município do Ceará por local de internação\n",
    "intern_munic_local_raw = pd.read_csv('../data/intern_muni_ce_por_local_de_internacao.csv', sep = ';', encoding = 'ISO-8859-1', skiprows = 3,\n",
    "                            skipfooter = 13, thousands = '.', decimal = ',', engine = 'python')"
   ]
  },
  {
   "cell_type": "code",
   "execution_count": null,
   "id": "69ea422b",
   "metadata": {},
   "outputs": [],
   "source": [
    "intern_munic_local_raw.head(3)"
   ]
  },
  {
   "cell_type": "code",
   "execution_count": null,
   "id": "7ae19761",
   "metadata": {},
   "outputs": [],
   "source": [
    "# cópia do dataframe original\n",
    "intern_munic_local = intern_munic_local_raw.copy()\n",
    "\n",
    "# remover os 6 números iniciais dos nomes dos municípios\n",
    "intern_munic_local['Município'] = intern_munic_local['Município'].str[7:]\n",
    "\n",
    "# coloca a coluna Município como índice\n",
    "intern_munic_local = intern_munic_local.set_index('Município').rename_axis(None)\n",
    "\n",
    "intern_munic_local.columns"
   ]
  },
  {
   "cell_type": "code",
   "execution_count": null,
   "id": "8568703c",
   "metadata": {},
   "outputs": [],
   "source": [
    "intern_munic_local = intern_munic_local[intern_munic_local.columns[8:]]\n",
    "intern_munic_local.head(3)"
   ]
  },
  {
   "cell_type": "code",
   "execution_count": null,
   "id": "538f8c74",
   "metadata": {},
   "outputs": [],
   "source": [
    "intern_munic_local.info()"
   ]
  },
  {
   "cell_type": "code",
   "execution_count": null,
   "id": "48183c2f",
   "metadata": {},
   "outputs": [],
   "source": [
    "intern_munic_local = intern_munic_local.replace('-', 0)"
   ]
  },
  {
   "cell_type": "code",
   "execution_count": null,
   "id": "d659a952",
   "metadata": {},
   "outputs": [],
   "source": [
    "intern_munic_local.info()"
   ]
  },
  {
   "cell_type": "code",
   "execution_count": null,
   "id": "6b0cbdae",
   "metadata": {},
   "outputs": [],
   "source": [
    "intern_munic_local = intern_munic_local.apply(pd.to_numeric, errors = 'coerce')"
   ]
  },
  {
   "cell_type": "code",
   "execution_count": null,
   "id": "cb651d65",
   "metadata": {},
   "outputs": [],
   "source": [
    "intern_munic_local.info()"
   ]
  },
  {
   "cell_type": "code",
   "execution_count": null,
   "id": "7d9780ec",
   "metadata": {},
   "outputs": [],
   "source": [
    "intern_munic_local.columns"
   ]
  },
  {
   "cell_type": "code",
   "execution_count": null,
   "id": "233d312e",
   "metadata": {},
   "outputs": [],
   "source": [
    "intern_munic_local = intern_munic_local.drop('Total', axis = 1)"
   ]
  },
  {
   "cell_type": "code",
   "execution_count": null,
   "id": "4a60854e",
   "metadata": {},
   "outputs": [],
   "source": [
    "intern_munic_local.head()"
   ]
  },
  {
   "cell_type": "code",
   "execution_count": null,
   "id": "f51f8a48",
   "metadata": {},
   "outputs": [],
   "source": [
    "# convertendo o \"Ano/Mês\" para datetime\n",
    "intern_munic_local.columns = pd.to_datetime(intern_munic_local.columns, format='%Y/%b')"
   ]
  },
  {
   "cell_type": "code",
   "execution_count": null,
   "id": "8b85670a",
   "metadata": {},
   "outputs": [],
   "source": [
    "intern_munic_local = intern_munic_local.T"
   ]
  },
  {
   "cell_type": "code",
   "execution_count": null,
   "id": "0f57a4c3",
   "metadata": {},
   "outputs": [],
   "source": [
    "intern_munic_local['Soma'] = intern_munic_local.drop(['Fortaleza'], axis = 1).sum(axis = 1)"
   ]
  },
  {
   "cell_type": "code",
   "execution_count": null,
   "id": "20842bae",
   "metadata": {},
   "outputs": [],
   "source": [
    "intern_munic_local = intern_munic_local[['Fortaleza', 'Soma']]"
   ]
  },
  {
   "cell_type": "code",
   "execution_count": null,
   "id": "2e978858",
   "metadata": {},
   "outputs": [],
   "source": [
    "intern_munic_local.head()"
   ]
  },
  {
   "cell_type": "code",
   "execution_count": null,
   "id": "1b126c27",
   "metadata": {},
   "outputs": [],
   "source": [
    "color = [BLUE1, ORANGE1]\n",
    "\n",
    "ax = intern_munic_local.plot(figsize = (15, 8), color = color, legend = None, linewidth = 2)\n",
    "\n",
    "ax.set_yticks(range(0, 30001, 5000))\n",
    "\n",
    "ax.tick_params(color = 'darkgrey')\n",
    "ax.spines['bottom'].set_color('darkgrey')\n",
    "ax.spines['left'].set_color('darkgrey')\n",
    "ax.spines['right'].set_visible(False)\n",
    "ax.spines['top'].set_visible(False)\n",
    "\n",
    "for i in ax.get_yticklabels() + ax.get_xticklabels():\n",
    "    i.set_fontsize(14)\n",
    "    i.set_color(GRAY5)\n",
    "    \n",
    "# número de internações por município do Ceará por local de internação\n",
    "    \n",
    "plt.text(442, 35000, '$\\\\bf{Número\\ de\\ Internações\\ por\\ Município\\ no\\ Ceará\\ de\\ Jan/2008\\ a\\ Mar/2021}$',\n",
    "         fontsize = 25, color = GRAY4)\n",
    "plt.text(442, 33000, 'Internações contabilizadas por local de internação',\n",
    "         fontsize = 20, color = GRAY6)\n",
    "\n",
    "plt.text(442, 15000, 'Quantidade de Internações', fontsize = 20, rotation = 'vertical', color = GRAY6)\n",
    "plt.text(455, -4300, 'Period', fontsize = 20, color = GRAY6)\n",
    "\n",
    "plt.text(615, 5500, 'Fortaleza', fontsize = 20, color = BLUE1)\n",
    "plt.text(615, 18000, 'Outros Municípios', fontsize = 20, color = ORANGE1)\n",
    "\n",
    "plt.show()"
   ]
  },
  {
   "cell_type": "code",
   "execution_count": null,
   "id": "a31bafbd",
   "metadata": {},
   "outputs": [],
   "source": [
    "intern_munic_local = intern_munic_local.T"
   ]
  },
  {
   "cell_type": "code",
   "execution_count": null,
   "id": "1141f4bb",
   "metadata": {},
   "outputs": [],
   "source": [
    "intern_munic_local = intern_munic_local.astype('float64')"
   ]
  },
  {
   "cell_type": "code",
   "execution_count": null,
   "id": "7d3e2bb9",
   "metadata": {},
   "outputs": [],
   "source": [
    "intern_munic_local['Soma'] = intern_munic_local.sum(axis = 1)"
   ]
  },
  {
   "cell_type": "code",
   "execution_count": null,
   "id": "583a8c91",
   "metadata": {},
   "outputs": [],
   "source": [
    "intern_munic_local['Porcentagem'] = (intern_munic_local['Soma'] / intern_munic_local['Soma'].sum()) * 100"
   ]
  },
  {
   "cell_type": "code",
   "execution_count": null,
   "id": "774e3ce6",
   "metadata": {},
   "outputs": [],
   "source": [
    "print('O número de internações de Fortaleza corresponde a {:.2f}% do total do Estado do Ceará,\\\n",
    "        \\ncontra todos os outros 183 municípios correspondendo a {:.2f}% do total.'.format(intern_munic_local['Porcentagem']['Fortaleza'],\n",
    "                                                                                          intern_munic_local['Porcentagem']['Soma']))"
   ]
  },
  {
   "cell_type": "code",
   "execution_count": null,
   "id": "3a6db497",
   "metadata": {},
   "outputs": [],
   "source": [
    "# número de internações por município do Ceará por local de residência\n",
    "intern_munic_resid_raw = pd.read_csv('../data/intern_muni_ce_por_local_de_residencia.csv', sep = ';', encoding = 'ISO-8859-1', skiprows = 3,\n",
    "                            skipfooter = 13, thousands = '.', decimal = ',', engine = 'python')"
   ]
  },
  {
   "cell_type": "code",
   "execution_count": null,
   "id": "2e45c897",
   "metadata": {},
   "outputs": [],
   "source": [
    "intern_munic_resid_raw.head(3)"
   ]
  },
  {
   "cell_type": "code",
   "execution_count": null,
   "id": "26ed0866",
   "metadata": {},
   "outputs": [],
   "source": [
    "# cópia do dataframe original\n",
    "intern_munic_resid = intern_munic_resid_raw.copy()\n",
    "\n",
    "# remover os 6 números iniciais dos nomes dos municípios\n",
    "intern_munic_resid['Município'] = intern_munic_resid['Município'].str[7:]\n",
    "\n",
    "# coloca a coluna Município como índice\n",
    "intern_munic_resid = intern_munic_resid.set_index('Município').rename_axis(None)\n",
    "\n",
    "intern_munic_resid.columns"
   ]
  },
  {
   "cell_type": "code",
   "execution_count": null,
   "id": "ea3f082f",
   "metadata": {},
   "outputs": [],
   "source": [
    "intern_munic_resid = intern_munic_resid[intern_munic_resid.columns[8:]]\n",
    "intern_munic_resid.head(3)"
   ]
  },
  {
   "cell_type": "code",
   "execution_count": null,
   "id": "28a2a097",
   "metadata": {},
   "outputs": [],
   "source": [
    "intern_munic_resid.info()"
   ]
  },
  {
   "cell_type": "code",
   "execution_count": null,
   "id": "51d79913",
   "metadata": {},
   "outputs": [],
   "source": [
    "intern_munic_resid.select_dtypes(object).head()"
   ]
  },
  {
   "cell_type": "code",
   "execution_count": null,
   "id": "52461ca1",
   "metadata": {},
   "outputs": [],
   "source": [
    "intern_munic_resid = intern_munic_resid.replace('-', 0)"
   ]
  },
  {
   "cell_type": "code",
   "execution_count": null,
   "id": "7a45ff45",
   "metadata": {},
   "outputs": [],
   "source": [
    "intern_munic_resid['2021/Mar'] = intern_munic_resid['2021/Mar'].astype('int64')"
   ]
  },
  {
   "cell_type": "code",
   "execution_count": null,
   "id": "9f4bea92",
   "metadata": {},
   "outputs": [],
   "source": [
    "intern_munic_resid.info()"
   ]
  },
  {
   "cell_type": "code",
   "execution_count": null,
   "id": "0b9cde26",
   "metadata": {},
   "outputs": [],
   "source": [
    "intern_munic_resid.columns"
   ]
  },
  {
   "cell_type": "code",
   "execution_count": null,
   "id": "697f497f",
   "metadata": {},
   "outputs": [],
   "source": [
    "intern_munic_resid = intern_munic_resid.drop('Total', axis = 1)"
   ]
  },
  {
   "cell_type": "code",
   "execution_count": null,
   "id": "bec79cb4",
   "metadata": {},
   "outputs": [],
   "source": [
    "# convertendo o \"Ano/Mês\" para datetime\n",
    "intern_munic_resid.columns = pd.to_datetime(intern_munic_resid.columns, format='%Y/%b')"
   ]
  },
  {
   "cell_type": "code",
   "execution_count": null,
   "id": "2b348e07",
   "metadata": {},
   "outputs": [],
   "source": [
    "intern_munic_resid = intern_munic_resid.T"
   ]
  },
  {
   "cell_type": "code",
   "execution_count": null,
   "id": "2717f376",
   "metadata": {},
   "outputs": [],
   "source": [
    "intern_munic_resid['Soma'] = intern_munic_resid.drop(['Fortaleza'], axis = 1).sum(axis = 1)"
   ]
  },
  {
   "cell_type": "code",
   "execution_count": null,
   "id": "afc1eff1",
   "metadata": {},
   "outputs": [],
   "source": [
    "intern_munic_resid = intern_munic_resid[['Fortaleza', 'Soma']]"
   ]
  },
  {
   "cell_type": "code",
   "execution_count": null,
   "id": "69d5554d",
   "metadata": {},
   "outputs": [],
   "source": [
    "intern_munic_resid.head()"
   ]
  },
  {
   "cell_type": "code",
   "execution_count": null,
   "id": "64842df5",
   "metadata": {},
   "outputs": [],
   "source": [
    "color = [BLUE1, ORANGE1]\n",
    "\n",
    "ax = intern_munic_resid.plot(figsize = (15, 8), color = color, legend = None, linewidth = 2)\n",
    "\n",
    "ax.set_yticks(range(0, 35001, 5000))\n",
    "\n",
    "ax.tick_params(color = 'darkgrey')\n",
    "ax.spines['bottom'].set_color('darkgrey')\n",
    "ax.spines['left'].set_color('darkgrey')\n",
    "ax.spines['right'].set_visible(False)\n",
    "ax.spines['top'].set_visible(False)\n",
    "\n",
    "for i in ax.get_yticklabels() + ax.get_xticklabels():\n",
    "    i.set_fontsize(14)\n",
    "    i.set_color(GRAY5)\n",
    "    \n",
    "# número de internações por município do Ceará por local de internação\n",
    "    \n",
    "plt.text(442, 39000, '$\\\\bf{Número\\ de\\ Internações\\ por\\ Município\\ no\\ Ceará\\ de\\ Jan/2008\\ a\\ Mar/2021}$',\n",
    "         fontsize = 25, color = GRAY4)\n",
    "plt.text(442, 37000, 'Internações contabilizadas por local de residência',\n",
    "         fontsize = 20, color = GRAY6)\n",
    "\n",
    "plt.text(442, 15000, 'Quantidade de Internações', fontsize = 20, rotation = 'vertical', color = GRAY6)\n",
    "plt.text(455, -4500, 'Period', fontsize = 20, color = GRAY6)\n",
    "\n",
    "plt.text(615, 5500, 'Fortaleza', fontsize = 20, color = BLUE1)\n",
    "plt.text(615, 18000, 'Outros Municípios', fontsize = 20, color = ORANGE1)\n",
    "\n",
    "plt.show()"
   ]
  },
  {
   "cell_type": "code",
   "execution_count": null,
   "id": "ea890a20",
   "metadata": {},
   "outputs": [],
   "source": [
    "intern_munic_resid = intern_munic_resid.T"
   ]
  },
  {
   "cell_type": "code",
   "execution_count": null,
   "id": "32862468",
   "metadata": {},
   "outputs": [],
   "source": [
    "intern_munic_resid['Soma'] = intern_munic_resid.sum(axis = 1)"
   ]
  },
  {
   "cell_type": "code",
   "execution_count": null,
   "id": "b60a757c",
   "metadata": {},
   "outputs": [],
   "source": [
    "intern_munic_resid['Porcentagem'] = (intern_munic_resid['Soma'] / intern_munic_resid['Soma'].sum()) * 100"
   ]
  },
  {
   "cell_type": "code",
   "execution_count": null,
   "id": "025ec998",
   "metadata": {},
   "outputs": [],
   "source": [
    "print('O número de internações de Fortaleza corresponde a {:.2f}% do total do Estado do Ceará,\\\n",
    "      \\nconsiderando o local de residência, contra todos os outros 183 municípios correspondendo a {:.2f}% do total.'.format(intern_munic_resid['Porcentagem']['Fortaleza'],\n",
    "                                                                                                                             intern_munic_resid['Porcentagem']['Soma']))"
   ]
  },
  {
   "cell_type": "code",
   "execution_count": null,
   "id": "ae00b472",
   "metadata": {},
   "outputs": [],
   "source": [
    "valor_total_br = pd.read_csv('../data/valor_total_brasil.csv', sep = ';', encoding = 'ISO-8859-1', skiprows = 3,\n",
    "                            skipfooter = 13, thousands = '.', decimal = ',', engine = 'python')"
   ]
  },
  {
   "cell_type": "code",
   "execution_count": null,
   "id": "b0d5b68f",
   "metadata": {},
   "outputs": [],
   "source": [
    "valor_total_br.head(3)"
   ]
  },
  {
   "cell_type": "code",
   "execution_count": null,
   "id": "8701e0bb",
   "metadata": {},
   "outputs": [],
   "source": [
    "# cópia do dataframe original\n",
    "valortotalbr = valor_total_br.copy()\n",
    "\n",
    "# remover os números dos nomes das UFs\n",
    "# podemos fazer isso pois usamos outro método pra separar por regiões\n",
    "valortotalbr['Unidade da Federação'] = valortotalbr['Unidade da Federação'].str[3:]\n",
    "\n",
    "# colocando a coluna de UFs como índice\n",
    "valortotalbr = valortotalbr.set_index('Unidade da Federação').rename_axis(None)"
   ]
  },
  {
   "cell_type": "code",
   "execution_count": null,
   "id": "4a7474f3",
   "metadata": {},
   "outputs": [],
   "source": [
    "valortotalbr.columns.get_loc('2008/Jan')"
   ]
  },
  {
   "cell_type": "code",
   "execution_count": null,
   "id": "069e5a3d",
   "metadata": {},
   "outputs": [],
   "source": [
    "# fazendo o slicing\n",
    "valortotalbr = valortotalbr[valortotalbr.columns[126:]]"
   ]
  },
  {
   "cell_type": "code",
   "execution_count": null,
   "id": "789527ce",
   "metadata": {},
   "outputs": [],
   "source": [
    "valortotalbr.head(3)"
   ]
  },
  {
   "cell_type": "code",
   "execution_count": null,
   "id": "6701974a",
   "metadata": {},
   "outputs": [],
   "source": [
    "valortotalbr.info()"
   ]
  },
  {
   "cell_type": "code",
   "execution_count": null,
   "id": "2d905675",
   "metadata": {},
   "outputs": [],
   "source": [
    "valortotalbr = valortotalbr.drop('Total', axis = 1)"
   ]
  },
  {
   "cell_type": "code",
   "execution_count": null,
   "id": "34b3b72e",
   "metadata": {},
   "outputs": [],
   "source": [
    "valortotalbr.columns = pd.to_datetime(valortotalbr.columns, format = '%Y/%b')"
   ]
  },
  {
   "cell_type": "code",
   "execution_count": null,
   "id": "4dd6ba24",
   "metadata": {},
   "outputs": [],
   "source": [
    "valortotalbr.head(3)"
   ]
  },
  {
   "cell_type": "code",
   "execution_count": null,
   "id": "8d49944f",
   "metadata": {},
   "outputs": [],
   "source": [
    "# separar por regiões\n",
    "\n",
    "norte = valortotalbr.index[:7].tolist()\n",
    "nordeste = valortotalbr.index[7:16].tolist()\n",
    "sudeste = valortotalbr.index[16:20].tolist()\n",
    "sul = valortotalbr.index[20:23].tolist()\n",
    "centro_oeste = valortotalbr.index[23:].tolist()"
   ]
  },
  {
   "cell_type": "code",
   "execution_count": null,
   "id": "e8d799da",
   "metadata": {},
   "outputs": [],
   "source": [
    "fig, axes = plt.subplots(2, 3, sharey = True, figsize = (25, 15))\n",
    "\n",
    "fig.text(0.085, 0.95, '$\\\\bf{Valor\\ Total\\ de\\ Gastos\\ com\\ Saúde\\ por\\ Região\\ do\\ Brasil\\ de\\ Jan/2008\\ a\\ Mar/2021}$',\n",
    "         fontsize = 25, color = GRAY4)\n",
    "\n",
    "# it was necessary to limit the y-axis because the expenses of the southeast\n",
    "# have a very high peak at the beginning which was distorting the plot\n",
    "plt.ylim(0, 400000000)\n",
    "\n",
    "axes[1, 2].set_visible(False)\n",
    "\n",
    "valortotalbr.loc[norte].T.plot(ax = axes[0, 0], colormap = 'tab10')\n",
    "axes[0, 0].set_title('Região North', loc = 'left', fontsize = 19, color = GRAY4)\n",
    "axes[0, 0].yaxis.set_major_formatter(ticker.StrMethodFormatter('{x:,.2f}'))\n",
    "axes[0, 0].spines['bottom'].set_color('darkgrey')\n",
    "axes[0, 0].spines['left'].set_color('darkgrey')\n",
    "axes[0, 0].spines['right'].set_visible(False)\n",
    "axes[0, 0].spines['top'].set_visible(False)\n",
    "\n",
    "valortotalbr.loc[nordeste].T.plot(ax = axes[0, 1], colormap = 'tab10')\n",
    "axes[0, 1].set_title('Região Northeast', loc = 'left', fontsize = 19, color = GRAY4)\n",
    "axes[0, 1].spines['bottom'].set_color('darkgrey')\n",
    "axes[0, 1].spines['left'].set_color('darkgrey')\n",
    "axes[0, 1].spines['right'].set_visible(False)\n",
    "axes[0, 1].spines['top'].set_visible(False)\n",
    "\n",
    "valortotalbr.loc[sudeste].T.plot(ax = axes[0, 2], colormap = 'tab10')\n",
    "axes[0, 2].set_title('Região Southeast', loc = 'left', fontsize = 19, color = GRAY4)\n",
    "axes[0, 2].spines['bottom'].set_color('darkgrey')\n",
    "axes[0, 2].spines['left'].set_color('darkgrey')\n",
    "axes[0, 2].spines['right'].set_visible(False)\n",
    "axes[0, 2].spines['top'].set_visible(False)\n",
    "\n",
    "valortotalbr.loc[sul].T.plot(ax = axes[1, 0], colormap = 'tab10')\n",
    "axes[1, 0].set_title('Região South', loc = 'left', fontsize = 19, color = GRAY4)\n",
    "axes[1, 0].spines['bottom'].set_color('darkgrey')\n",
    "axes[1, 0].spines['left'].set_color('darkgrey')\n",
    "axes[1, 0].spines['right'].set_visible(False)\n",
    "axes[1, 0].spines['top'].set_visible(False)\n",
    "\n",
    "valortotalbr.loc[centro_oeste].T.plot(ax = axes[1, 1], colormap = 'tab10')\n",
    "axes[1, 1].set_title('Região Midwest', loc = 'left', fontsize = 19, color = GRAY4)\n",
    "axes[1, 1].spines['bottom'].set_color('darkgrey')\n",
    "axes[1, 1].spines['left'].set_color('darkgrey')\n",
    "axes[1, 1].spines['right'].set_visible(False)\n",
    "axes[1, 1].spines['top'].set_visible(False)\n",
    "\n",
    "axes[1][0].set_position([0.24, 0.125, 0.228, 0.343])\n",
    "axes[1][1].set_position([0.55, 0.125, 0.228, 0.343])\n",
    "\n",
    "plt.show()"
   ]
  },
  {
   "cell_type": "code",
   "execution_count": null,
   "id": "84a97b90",
   "metadata": {},
   "outputs": [],
   "source": [
    "valortotalord = valortotalbr.copy()\n",
    "valortotalord['Soma'] = valortotalord.sum(axis = 1)\n",
    "valortotalord['Porcentagem'] = (valortotalord['Soma'] / valortotalord['Soma'].sum()) * 100"
   ]
  },
  {
   "cell_type": "code",
   "execution_count": null,
   "id": "874d82e7",
   "metadata": {},
   "outputs": [],
   "source": [
    "print(\"Here is the result: \", 'A posição do Ceará no valor total de gastos no Brasil é: {}.'.format(valortotalord.index.get_loc('Ceará') + 1))"
   ]
  },
  {
   "cell_type": "code",
   "execution_count": null,
   "id": "baf8f0a9",
   "metadata": {},
   "outputs": [],
   "source": [
    "# dataframe auxiliar para plotagem\n",
    "vto = valortotalord['Soma']\n",
    "vto = vto.sort_values(ascending = False)"
   ]
  },
  {
   "cell_type": "code",
   "execution_count": null,
   "id": "6db0ec99",
   "metadata": {},
   "outputs": [],
   "source": [
    "cores = []\n",
    "for value in vto.keys():\n",
    "    if 'Ceará' == value:\n",
    "        cores.append(ORANGE1)\n",
    "    else:\n",
    "        cores.append(BLUE4)\n",
    "cores.reverse()\n",
    "\n",
    "ax = vto.sort_values(ascending = True).plot(kind = 'barh', figsize = (15, 10), color = cores)\n",
    "\n",
    "ax.xaxis.set_major_formatter(ticker.StrMethodFormatter('{x:,.0f}'))\n",
    "ax.tick_params(color = 'darkgrey', bottom = 'off')\n",
    "ax.spines['bottom'].set_color('darkgrey')\n",
    "ax.spines['left'].set_color('darkgrey')\n",
    "ax.spines['right'].set_visible(False)\n",
    "ax.spines['top'].set_visible(False)\n",
    "\n",
    "for i in ax.get_yticklabels() + ax.get_xticklabels():\n",
    "    i.set_fontsize(12)\n",
    "    i.set_color(GRAY5)\n",
    "    \n",
    "# remover o número do nome dos Estados\n",
    "#ax.set_yticklabels([k[3:] for k in internacoes_ord.index.to_list()[::-1]])\n",
    "    \n",
    "plt.text(-7000000000, 27, '$\\\\bf{Valor\\ Total\\ de\\ Gastos\\ por\\ Estado\\ do\\ Brasil}$',\n",
    "         fontsize = 20, color = GRAY4)\n",
    "plt.text(-7000000000, 26, 'Somatório do período de Jan/2008 a Mar/2021',\n",
    "         fontsize = 18, color = GRAY6)\n",
    "\n",
    "plt.text(-7000000000, 23, 'Estado', fontsize = 18, rotation = 'vertical', color = GRAY6)\n",
    "plt.text(455, -3, 'Valores (em R$)', fontsize = 18, color = GRAY6)\n",
    "\n",
    "plt.show()"
   ]
  },
  {
   "cell_type": "code",
   "execution_count": null,
   "id": "3451280d",
   "metadata": {},
   "outputs": [],
   "source": [
    "print('O valor total do Ceará corresponde a {:.2f}% do total do Brasil, \\\n",
    "       \\nou seja, {} bilhões no período de Jan/2008 a  Mar/2021.'.format(valortotalord['Porcentagem']['Ceará'],\n",
    "                                                                         locale.currency(valortotalord['Soma']['Ceará'], grouping = True)))"
   ]
  },
  {
   "cell_type": "code",
   "execution_count": null,
   "id": "215f3c13",
   "metadata": {},
   "outputs": [],
   "source": [
    "# dataframe auxiliar para a plotagem gráfica\n",
    "valor_total_regioes = valortotalbr.copy()\n",
    "valor_total_regioes = valor_total_regioes.T\n",
    "\n",
    "valor_total_regioes['Northeast'] = valor_total_regioes[nordeste].sum(axis = 1)\n",
    "valor_total_regioes['North'] = valor_total_regioes[norte].sum(axis = 1)\n",
    "valor_total_regioes['Southeast'] = valor_total_regioes[sudeste].sum(axis = 1)\n",
    "valor_total_regioes['South'] = valor_total_regioes[sul].sum(axis = 1)\n",
    "valor_total_regioes['Centro_Oeste'] = valor_total_regioes[centro_oeste].sum(axis = 1)\n",
    "\n",
    "valor_total_regioes = valor_total_regioes[['Northeast', 'North', 'Southeast', 'South', 'Centro_Oeste']]\n",
    "\n",
    "valor_total_regioes.head()"
   ]
  },
  {
   "cell_type": "code",
   "execution_count": null,
   "id": "124e3336",
   "metadata": {},
   "outputs": [],
   "source": [
    "ax = valor_total_regioes.plot(figsize = (15, 10))\n",
    "\n",
    "# it was necessary to limit the y-axis because the expenses of the southeast\n",
    "# have a very high peak at the beginning which was distorting the plot\n",
    "plt.ylim(0, 700000000)\n",
    "\n",
    "ax.yaxis.set_major_formatter(ticker.StrMethodFormatter('{x:,.2f}'))\n",
    "ax.tick_params(color = 'darkgrey')\n",
    "ax.spines['bottom'].set_color('darkgrey')\n",
    "ax.spines['left'].set_color('darkgrey')\n",
    "ax.spines['right'].set_visible(False)\n",
    "ax.spines['top'].set_visible(False)\n",
    "\n",
    "for i in ax.get_yticklabels() + ax.get_xticklabels():\n",
    "    i.set_fontsize(14)\n",
    "    i.set_color(GRAY5)\n",
    "\n",
    "\n",
    "plt.text(430, 750000000, '$\\\\bf{Valor\\ Total\\ de\\ Gastos\\ no\\ Ceará\\ de\\ Jan/2008\\ a\\ Mar/2021}$',\n",
    "         fontsize = 20, color = GRAY4)\n",
    "plt.text(430, 730000000, 'Compared with other States of the Region',\n",
    "         fontsize = 18, color = GRAY6)\n",
    "\n",
    "plt.text(430, 400000000, 'Valor (em R$)', fontsize = 20, rotation = 'vertical', color = GRAY6)\n",
    "plt.text(455, -50000000, 'Period', fontsize = 20, color = GRAY6)\n",
    "\n",
    "plt.text(613, 600000000, 'Southeast', fontsize = 18, color = 'green')\n",
    "plt.text(613, 270000000, 'Northeast', fontsize = 18, color = 'blue')\n",
    "plt.text(615, 100000000, 'South', fontsize = 18, color = 'red')\n",
    "plt.text(614, 55000000, 'North', fontsize = 18, color = 'orange')\n",
    "plt.text(615, 29000000, 'Midwest', fontsize = 18, color = 'purple')\n",
    "\n",
    "ax.get_legend().remove()\n",
    "\n",
    "plt.show()"
   ]
  },
  {
   "cell_type": "code",
   "execution_count": null,
   "id": "c11c3b94",
   "metadata": {},
   "outputs": [],
   "source": [
    "valor_total_regioes = valor_total_regioes.T\n",
    "valor_total_regioes['Soma'] = valor_total_regioes.sum(axis = 1)\n",
    "valor_total_regioes['Porcentagem'] = (valor_total_regioes['Soma'] / valor_total_regioes['Soma'].sum()) * 100"
   ]
  },
  {
   "cell_type": "code",
   "execution_count": null,
   "id": "adbc5b0c",
   "metadata": {},
   "outputs": [],
   "source": [
    "valor_total_regioes"
   ]
  },
  {
   "cell_type": "code",
   "execution_count": null,
   "id": "8b6edc7c",
   "metadata": {},
   "outputs": [],
   "source": [
    "print(\"Here is the result: \", 'A Região Northeast possui {:.2f}% do valor total gasto no país no período analisado.'.format(valor_total_regioes['Porcentagem']['Northeast']))"
   ]
  },
  {
   "cell_type": "code",
   "execution_count": null,
   "id": "137c0e34",
   "metadata": {},
   "outputs": [],
   "source": [
    "valor_total_nordeste = valortotalbr.copy()\n",
    "\n",
    "valor_total_nordeste = valor_total_nordeste.loc[nordeste]\n",
    "\n",
    "valor_total_nordeste['Soma'] = valor_total_nordeste.sum(axis = 1)\n",
    "\n",
    "valor_total_nordeste = valor_total_nordeste.sort_values(by = 'Soma', ascending = False)\n",
    "\n",
    "valor_total_nordeste = valor_total_nordeste.drop('Soma', axis = 1)"
   ]
  },
  {
   "cell_type": "code",
   "execution_count": null,
   "id": "69aa6615",
   "metadata": {},
   "outputs": [],
   "source": [
    "fig, axes = plt.subplots(3, 3, sharex = True, sharey = True, figsize = (25, 20))\n",
    "\n",
    "palette = plt.get_cmap('tab10')\n",
    "\n",
    "fig.text(0.070, 0.95, '$\\\\bf{Valor\\ Total\\ por\\ Estado\\ da\\ Região\\ Northeast\\ de\\ Jan/2008\\ a\\ Mar/2021}$',\n",
    "         fontsize = 25, color = GRAY4)\n",
    "fig.text(0.070, 0.933, 'Estados Ordenados pelo Total de Internações no Period',\n",
    "         fontsize = 20, color = GRAY6)\n",
    "\n",
    "fig.text(0.070, 0.72, 'Quantidade de Internações', fontsize = 20, rotation = 'vertical', color = GRAY4)\n",
    "fig.text(0.12, 0.09, 'Period', fontsize = 20, color = GRAY4)\n",
    "\n",
    "num = 0\n",
    "\n",
    "for estado in valor_total_nordeste.index.tolist():\n",
    "    num += 1\n",
    "    plt.subplot(3, 3, num)\n",
    "    ax = valor_total_nordeste.loc[estado].T.plot(color = palette(num))\n",
    "    ax.yaxis.set_major_formatter(ticker.StrMethodFormatter('{x:,.2f}'))\n",
    "    plt.ylim(0, 100000000)\n",
    "    if num in range(7) :\n",
    "        plt.tick_params(labelbottom = False)\n",
    "    if num not in [1,4,7] :\n",
    "        plt.tick_params(labelleft = False)\n",
    "    plt.title(estado, loc = 'left', fontsize = 19, color = GRAY4)\n",
    "    \n",
    "    for i in ax.get_yticklabels() + ax.get_xticklabels():\n",
    "        i.set_fontsize(10)\n",
    "        i.set_color(GRAY4)\n",
    "    \n",
    "    ax.tick_params(color = 'darkgrey', bottom = True)\n",
    "    ax.spines['bottom'].set_color('darkgrey')\n",
    "    ax.spines['left'].set_color('darkgrey')\n",
    "    ax.spines['right'].set_visible(False)\n",
    "    ax.spines['top'].set_visible(False)\n",
    "    \n",
    "plt.show()"
   ]
  },
  {
   "cell_type": "code",
   "execution_count": null,
   "id": "79a9914e",
   "metadata": {},
   "outputs": [],
   "source": [
    "valor_total_nord = valor_total_nordeste.copy()\n",
    "valor_total_nord['Soma'] = valor_total_nord.sum(axis = 1)\n",
    "valor_total_nord['Porcentagem'] = (valor_total_nord['Soma'] / valor_total_nord['Soma'].sum()) * 100"
   ]
  },
  {
   "cell_type": "code",
   "execution_count": null,
   "id": "a9d07fcf",
   "metadata": {},
   "outputs": [],
   "source": [
    "valor_total_nord"
   ]
  },
  {
   "cell_type": "code",
   "execution_count": null,
   "id": "4013adfa",
   "metadata": {},
   "outputs": [],
   "source": [
    "print(\"Here is the result: \", 'O Estado do Ceará possui {:.2f}% dos gastos totais da Região Northeast no período analisado.'.format(valor_total_nord['Porcentagem']['Ceará']))"
   ]
  },
  {
   "cell_type": "code",
   "execution_count": null,
   "id": "5e462b6d",
   "metadata": {},
   "outputs": [],
   "source": [
    "plt.figure(figsize = (12, 10))\n",
    "\n",
    "for estado in valor_total_nordeste.index.tolist():\n",
    "    ax = valor_total_nordeste.loc[estado].T.plot(color = 'lightgrey', linewidth = 1, alpha = 0.8)\n",
    "\n",
    "ax = valor_total_nordeste.loc['Ceará'].T.plot(color = BLUE1, linewidth = 2.5, alpha = 0.8)\n",
    "\n",
    "ax.yaxis.set_major_formatter(ticker.StrMethodFormatter('{x:,.2f}'))\n",
    "ax.set_yticks(range(0, 90000001, 10000000))\n",
    "ax.tick_params(color = 'darkgrey')\n",
    "ax.spines['bottom'].set_color('darkgrey')\n",
    "ax.spines['left'].set_color('darkgrey')\n",
    "ax.spines['right'].set_visible(False)\n",
    "ax.spines['top'].set_visible(False)\n",
    "\n",
    "for i in ax.get_yticklabels() + ax.get_xticklabels():\n",
    "    i.set_fontsize(14)\n",
    "    i.set_color(GRAY5)\n",
    "\n",
    "\n",
    "plt.text(425, 100000000, '$\\\\bf{Valor\\ Total\\ Por\\ Internação\\ no\\ Ceará\\ de\\ Jan/2008\\ a\\ Mar/2021}$',\n",
    "         fontsize = 25, color = GRAY4)\n",
    "plt.text(425, 96000000, 'Compared with other States of the Region',\n",
    "         fontsize = 20, color = GRAY6)\n",
    "\n",
    "plt.text(425, 50000000, 'Quantidade de Internações', fontsize = 20, rotation = 'vertical', color = GRAY6)\n",
    "plt.text(455, -10000000, 'Period', fontsize = 20, color = GRAY6)\n",
    "\n",
    "plt.show()"
   ]
  },
  {
   "cell_type": "code",
   "execution_count": null,
   "id": "26f2385b",
   "metadata": {},
   "outputs": [],
   "source": [
    "valor_total_municipios_ceara = pd.read_csv('../data/valor_total_municipios_ceara.csv', sep = ';', encoding = 'ISO-8859-1', skiprows = 3,\n",
    "                            skipfooter = 13, thousands = '.', decimal = ',', engine = 'python')"
   ]
  },
  {
   "cell_type": "code",
   "execution_count": null,
   "id": "b36e3353",
   "metadata": {},
   "outputs": [],
   "source": [
    "valor_total_municipios_ceara.head(3)"
   ]
  },
  {
   "cell_type": "code",
   "execution_count": null,
   "id": "3f1b0933",
   "metadata": {},
   "outputs": [],
   "source": [
    "# cópia do dataframe original\n",
    "valor_total_muni_ce = valor_total_municipios_ceara.copy()\n",
    "\n",
    "# remover os 6 números iniciais dos nomes dos municípios\n",
    "valor_total_muni_ce['Município'] = valor_total_muni_ce['Município'].str[7:]\n",
    "\n",
    "# coloca a coluna Município como índice\n",
    "valor_total_muni_ce = valor_total_muni_ce.set_index('Município').rename_axis(None)\n",
    "\n",
    "valor_total_muni_ce.head(3)"
   ]
  },
  {
   "cell_type": "code",
   "execution_count": null,
   "id": "f3d80631",
   "metadata": {},
   "outputs": [],
   "source": [
    "# encontrar a posição da coluna '2008/Jan'\n",
    "valor_total_muni_ce.columns.get_loc('2008/Jan')"
   ]
  },
  {
   "cell_type": "code",
   "execution_count": null,
   "id": "02d34d55",
   "metadata": {},
   "outputs": [],
   "source": [
    "# excluir as colunas anteriores a '2008/Jan'\n",
    "valor_total_muni_ce = valor_total_muni_ce[valor_total_muni_ce.columns[12:]]\n",
    "valor_total_muni_ce.head(3)"
   ]
  },
  {
   "cell_type": "code",
   "execution_count": null,
   "id": "f095f2b6",
   "metadata": {},
   "outputs": [],
   "source": [
    "valor_total_muni_ce.info()"
   ]
  },
  {
   "cell_type": "code",
   "execution_count": null,
   "id": "ff1d67ff",
   "metadata": {},
   "outputs": [],
   "source": [
    "valor_total_muni_ce = valor_total_muni_ce.replace('-', 0)"
   ]
  },
  {
   "cell_type": "code",
   "execution_count": null,
   "id": "6913da46",
   "metadata": {},
   "outputs": [],
   "source": [
    "valor_total_muni_ce.info()"
   ]
  },
  {
   "cell_type": "code",
   "execution_count": null,
   "id": "00f89278",
   "metadata": {},
   "outputs": [],
   "source": [
    "valor_total_muni_ce = valor_total_muni_ce.apply(pd.to_numeric, errors = 'coerce')"
   ]
  },
  {
   "cell_type": "code",
   "execution_count": null,
   "id": "58ddc1c4",
   "metadata": {},
   "outputs": [],
   "source": [
    "valor_total_muni_ce.info()"
   ]
  },
  {
   "cell_type": "code",
   "execution_count": null,
   "id": "fb8faaf7",
   "metadata": {},
   "outputs": [],
   "source": [
    "valor_total_muni_ce.columns"
   ]
  },
  {
   "cell_type": "code",
   "execution_count": null,
   "id": "027e396b",
   "metadata": {},
   "outputs": [],
   "source": [
    "# elimina a coluna 'Total'\n",
    "valor_total_muni_ce = valor_total_muni_ce.drop('Total', axis = 1)"
   ]
  },
  {
   "cell_type": "code",
   "execution_count": null,
   "id": "440eb042",
   "metadata": {},
   "outputs": [],
   "source": [
    "# muda as datas que estão em string pro tipo information\n",
    "valor_total_muni_ce.columns = pd.to_datetime(valor_total_muni_ce.columns, format = '%Y/%b')"
   ]
  },
  {
   "cell_type": "code",
   "execution_count": null,
   "id": "aa18bc3b",
   "metadata": {},
   "outputs": [],
   "source": [
    "valor_total_muni_ce.head(3)"
   ]
  },
  {
   "cell_type": "code",
   "execution_count": null,
   "id": "12d289c8",
   "metadata": {},
   "outputs": [],
   "source": [
    "valor_total_muni_ce = valor_total_muni_ce.T"
   ]
  },
  {
   "cell_type": "code",
   "execution_count": null,
   "id": "7fc1445f",
   "metadata": {},
   "outputs": [],
   "source": [
    "valor_total_muni_ce['Soma'] = valor_total_muni_ce.drop(['Fortaleza'], axis = 1).sum(axis = 1)"
   ]
  },
  {
   "cell_type": "code",
   "execution_count": null,
   "id": "e2619cae",
   "metadata": {},
   "outputs": [],
   "source": [
    "valor_total_muni_ce = valor_total_muni_ce[['Fortaleza', 'Soma']]"
   ]
  },
  {
   "cell_type": "code",
   "execution_count": null,
   "id": "ed1d4cb7",
   "metadata": {},
   "outputs": [],
   "source": [
    "valor_total_muni_ce"
   ]
  },
  {
   "cell_type": "code",
   "execution_count": null,
   "id": "e81fd622",
   "metadata": {},
   "outputs": [],
   "source": [
    "color = [BLUE1, ORANGE1]\n",
    "\n",
    "ax = valor_total_muni_ce.plot(alpha = 0.8, figsize = (15, 8), color = color, legend = None, linewidth = 2)\n",
    "\n",
    "ax.yaxis.set_major_formatter(ticker.StrMethodFormatter('{x:,.2f}'))\n",
    "ax.set_yticks(range(0, 40000001, 5000000))\n",
    "ax.tick_params(color = 'darkgrey')\n",
    "ax.spines['bottom'].set_color('darkgrey')\n",
    "ax.spines['left'].set_color('darkgrey')\n",
    "ax.spines['right'].set_visible(False)\n",
    "ax.spines['top'].set_visible(False)\n",
    "\n",
    "for i in ax.get_yticklabels() + ax.get_xticklabels():\n",
    "    i.set_fontsize(14)\n",
    "    i.set_color(GRAY5)\n",
    "    \n",
    "   \n",
    "plt.text(433, 42000000, '$\\\\bf{Total\\ de\\ Gastos\\ por\\ Município\\ no\\ Ceará\\ de\\ Jan/2008\\ a\\ Mar/2021}$',\n",
    "         fontsize = 25, color = GRAY4)\n",
    "\n",
    "plt.text(433, 30000000, 'Valor (em R$)', fontsize = 20, rotation = 'vertical', color = GRAY6)\n",
    "plt.text(455, -3500000, 'Period', fontsize = 20, color = GRAY6)\n",
    "\n",
    "plt.text(613, 25000000, 'Fortaleza', fontsize = 20, color = BLUE1)\n",
    "plt.text(614, 12000000, 'Outros Municípios', fontsize = 20, color = ORANGE1)\n",
    "\n",
    "plt.show()"
   ]
  },
  {
   "cell_type": "code",
   "execution_count": null,
   "id": "75596502",
   "metadata": {},
   "outputs": [],
   "source": [
    "valor_total_muni_ce = valor_total_muni_ce.T"
   ]
  },
  {
   "cell_type": "code",
   "execution_count": null,
   "id": "16a11cde",
   "metadata": {},
   "outputs": [],
   "source": [
    "valor_total_muni_ce['Soma'] = valor_total_muni_ce.sum(axis = 1)"
   ]
  },
  {
   "cell_type": "code",
   "execution_count": null,
   "id": "93527581",
   "metadata": {},
   "outputs": [],
   "source": [
    "valor_total_muni_ce['Porcentagem'] = (valor_total_muni_ce['Soma'] / valor_total_muni_ce['Soma'].sum()) * 100"
   ]
  },
  {
   "cell_type": "code",
   "execution_count": null,
   "id": "d0bde635",
   "metadata": {},
   "outputs": [],
   "source": [
    "print('O valor total gasto por Fortaleza corresponde a {:.2f}% do total do Estado do Ceará,\\\n",
    "        \\ncontra todos os outros 183 municípios correspondendo a {:.2f}% do total.'.format(valor_total_muni_ce['Porcentagem']['Fortaleza'],\n",
    "                                                                                          valor_total_muni_ce['Porcentagem']['Soma']))"
   ]
  },
  {
   "cell_type": "code",
   "execution_count": null,
   "id": "d8a55818",
   "metadata": {},
   "outputs": [],
   "source": [
    "# importar o aquivo do valor médio das internações no Brasil\n",
    "valor_medio_br_raw = pd.read_csv('../data/valor_medio_internacao_brasil.csv', sep = ';', encoding = 'ISO-8859-1', skiprows = 3,\n",
    "                            skipfooter = 12, thousands = '.', decimal = ',', engine = 'python')"
   ]
  },
  {
   "cell_type": "code",
   "execution_count": null,
   "id": "81ca970f",
   "metadata": {},
   "outputs": [],
   "source": [
    "valor_medio_br_raw.head(3)"
   ]
  },
  {
   "cell_type": "code",
   "execution_count": null,
   "id": "3ae0281d",
   "metadata": {},
   "outputs": [],
   "source": [
    "valor_medio_br_raw.tail(3)"
   ]
  },
  {
   "cell_type": "code",
   "execution_count": null,
   "id": "f61bc947",
   "metadata": {},
   "outputs": [],
   "source": [
    "print(\"Here is the result: \", 'A posição da coluna \\'2008/Jan\\' é a {}.'.format(valor_medio_br_raw.columns.get_loc('2008/Jan')))"
   ]
  },
  {
   "cell_type": "code",
   "execution_count": null,
   "id": "922fb564",
   "metadata": {},
   "outputs": [],
   "source": [
    "# cópia do df original\n",
    "valor_medio_br = valor_medio_br_raw.copy()\n",
    "\n",
    "# UF como indíce\n",
    "valor_medio_br = valor_medio_br.set_index('Unidade da Federação').rename_axis(None)\n",
    "\n",
    "# removendo as colunas (até a 12, pois tiramos uma coluna, a da UF)\n",
    "valor_medio_br = valor_medio_br.drop(valor_medio_br.columns[:12], axis = 1)"
   ]
  },
  {
   "cell_type": "code",
   "execution_count": null,
   "id": "476b6cdb",
   "metadata": {},
   "outputs": [],
   "source": [
    "valor_medio_br.info()"
   ]
  },
  {
   "cell_type": "code",
   "execution_count": null,
   "id": "8021d310",
   "metadata": {},
   "outputs": [],
   "source": [
    "valor_medio_br.isna().sum().sum()"
   ]
  },
  {
   "cell_type": "code",
   "execution_count": null,
   "id": "80a6968d",
   "metadata": {},
   "outputs": [],
   "source": [
    "# remover o número do nome dos Estado\n",
    "valor_medio_br.index = valor_medio_br.index.str[3:]"
   ]
  },
  {
   "cell_type": "code",
   "execution_count": null,
   "id": "b829f684",
   "metadata": {},
   "outputs": [],
   "source": [
    "valormediobr = valor_medio_br.copy()\n",
    "valormediobr = valormediobr.sort_values(by = 'Total', ascending = False)\n",
    "valormediobr = valormediobr.drop('Total', axis = 1)\n",
    "\n",
    "# formatar a information\n",
    "valormediobr.columns = pd.to_datetime(valormediobr.columns, format='%Y/%b')"
   ]
  },
  {
   "cell_type": "code",
   "execution_count": null,
   "id": "2243d3ac",
   "metadata": {},
   "outputs": [],
   "source": [
    "fig, axes = plt.subplots(2, 3, sharey = True, figsize = (22, 15))\n",
    "\n",
    "fig.text(0.085, 0.95, '$\\\\bf{Valor\\ Médio\\ por\\ Internações\\ em\\ cada\\ Região\\ do\\ Brasil\\ de\\ Jan/2008\\ a\\ Mar/2021}$',\n",
    "         fontsize = 25, color = GRAY4)\n",
    "\n",
    "# foi necessário dar um limite para o eixo y pois os valores médios do sudeste\n",
    "# have a very high peak at the beginning which was distorting the plot\n",
    "plt.ylim(0, 3000)\n",
    "\n",
    "axes[1, 2].set_visible(False)\n",
    "\n",
    "valormediobr.loc[norte].T.plot(ax = axes[0, 0], colormap = 'tab10')\n",
    "axes[0, 0].set_title('Região North', loc = 'left', fontsize = 19, color = GRAY4)\n",
    "#axes[0, 0].yaxis.set_major_formatter(ticker.StrMethodFormatter('{x:,.2f}'))\n",
    "axes[0, 0].spines['bottom'].set_color('darkgrey')\n",
    "axes[0, 0].spines['left'].set_color('darkgrey')\n",
    "axes[0, 0].spines['right'].set_visible(False)\n",
    "axes[0, 0].spines['top'].set_visible(False)\n",
    "\n",
    "valormediobr.loc[nordeste].T.plot(ax = axes[0, 1], colormap = 'tab10')\n",
    "axes[0, 1].set_title('Região Northeast', loc = 'left', fontsize = 19, color = GRAY4)\n",
    "axes[0, 1].spines['bottom'].set_color('darkgrey')\n",
    "axes[0, 1].spines['left'].set_color('darkgrey')\n",
    "axes[0, 1].spines['right'].set_visible(False)\n",
    "axes[0, 1].spines['top'].set_visible(False)\n",
    "\n",
    "valormediobr.loc[sudeste].T.plot(ax = axes[0, 2], colormap = 'tab10')\n",
    "axes[0, 2].set_title('Região Southeast', loc = 'left', fontsize = 19, color = GRAY4)\n",
    "axes[0, 2].spines['bottom'].set_color('darkgrey')\n",
    "axes[0, 2].spines['left'].set_color('darkgrey')\n",
    "axes[0, 2].spines['right'].set_visible(False)\n",
    "axes[0, 2].spines['top'].set_visible(False)\n",
    "\n",
    "valormediobr.loc[sul].T.plot(ax = axes[1, 0], colormap = 'tab10')\n",
    "axes[1, 0].set_title('Região South', loc = 'left', fontsize = 19, color = GRAY4)\n",
    "axes[1, 0].spines['bottom'].set_color('darkgrey')\n",
    "axes[1, 0].spines['left'].set_color('darkgrey')\n",
    "axes[1, 0].spines['right'].set_visible(False)\n",
    "axes[1, 0].spines['top'].set_visible(False)\n",
    "\n",
    "valormediobr.loc[centro_oeste].T.plot(ax = axes[1, 1], colormap = 'tab10')\n",
    "axes[1, 1].set_title('Região Midwest', loc = 'left', fontsize = 19, color = GRAY4)\n",
    "axes[1, 1].spines['bottom'].set_color('darkgrey')\n",
    "axes[1, 1].spines['left'].set_color('darkgrey')\n",
    "axes[1, 1].spines['right'].set_visible(False)\n",
    "axes[1, 1].spines['top'].set_visible(False)\n",
    "\n",
    "axes[1, 0].set_position([0.24, 0.125, 0.228, 0.343])\n",
    "axes[1, 1].set_position([0.55, 0.125, 0.228, 0.343])\n",
    "\n",
    "plt.show()"
   ]
  },
  {
   "cell_type": "code",
   "execution_count": null,
   "id": "3bf590cf",
   "metadata": {},
   "outputs": [],
   "source": [
    "# o set of information \"valormediobr\" já está ordenado pelo valor total (somamos 1 pois a contagem se inicia no 0)\n",
    "print(\"Here is the result: \", 'A posição do Ceará em valor médio por internação no Brasil é: {}.'.format(valormediobr.index.get_loc('Ceará') + 1))"
   ]
  },
  {
   "cell_type": "code",
   "execution_count": null,
   "id": "9a24d825",
   "metadata": {},
   "outputs": [],
   "source": [
    "valormediobr2 = valormediobr.copy()\n",
    "valormediobr2 = valormediobr2.T"
   ]
  },
  {
   "cell_type": "code",
   "execution_count": null,
   "id": "97b66f6f",
   "metadata": {},
   "outputs": [],
   "source": [
    "valormediobr2['Northeast'] = (valormediobr2[nordeste].sum(axis = 1)) / len(nordeste)\n",
    "valormediobr2['North'] = (valormediobr2[norte].sum(axis = 1)) / len(norte)\n",
    "valormediobr2['Southeast'] = (valormediobr2[sudeste].sum(axis = 1)) / len(sudeste)\n",
    "valormediobr2['South'] = (valormediobr2[sul].sum(axis = 1)) / len(sul)\n",
    "valormediobr2['Centro_Oeste'] = (valormediobr2[centro_oeste].sum(axis = 1)) / len(centro_oeste)\n",
    "\n",
    "valormediobr2 = valormediobr2[['Northeast', 'North', 'Southeast', 'South', 'Centro_Oeste']]\n",
    "\n",
    "valormediobr2.head()"
   ]
  },
  {
   "cell_type": "code",
   "execution_count": null,
   "id": "6807331a",
   "metadata": {},
   "outputs": [],
   "source": [
    "ax = valormediobr2.plot(figsize = (15, 10))\n",
    "\n",
    "plt.ylim(0, 2500)\n",
    "\n",
    "ax.tick_params(color = 'darkgrey', bottom = 'off')\n",
    "ax.spines['bottom'].set_color('darkgrey')\n",
    "ax.spines['left'].set_color('darkgrey')\n",
    "ax.spines['right'].set_visible(False)\n",
    "ax.spines['top'].set_visible(False)\n",
    "\n",
    "for i in ax.get_yticklabels() + ax.get_xticklabels():\n",
    "    i.set_fontsize(14)\n",
    "    i.set_color(GRAY5)\n",
    "\n",
    "plt.text(444, 2700, '$\\\\bf{Valor\\ Médio\\ por\\ Internação\\ por\\ Região\\ do\\ Brasil}$',\n",
    "         fontsize = 20, color = GRAY4)\n",
    "plt.text(444, 2600, 'No período de Jan/2008 a Mar/2021',\n",
    "         fontsize = 18, color = GRAY6)\n",
    "\n",
    "plt.text(444, 2000, 'Valor (em R$)', fontsize = 20, rotation = 'vertical', color = GRAY6)\n",
    "plt.text(455, -150, 'Period', fontsize = 20, color = GRAY6)\n",
    "\n",
    "plt.text(615, 1600, 'Southeast', fontsize = 18, color = 'green')\n",
    "plt.text(615, 1300, 'Northeast', fontsize = 18, color = 'blue')\n",
    "plt.text(615, 1800, 'South', fontsize = 18, color = 'red')\n",
    "plt.text(615, 1100, 'North', fontsize = 18, color = 'orange')\n",
    "plt.text(615, 1500, 'Midwest', fontsize = 18, color = 'purple')\n",
    "\n",
    "ax.get_legend().remove()\n",
    "\n",
    "plt.show()"
   ]
  },
  {
   "cell_type": "code",
   "execution_count": null,
   "id": "ead86e0b",
   "metadata": {},
   "outputs": [],
   "source": [
    "valormedione = valormediobr.loc[nordeste]"
   ]
  },
  {
   "cell_type": "code",
   "execution_count": null,
   "id": "4d228fc0",
   "metadata": {},
   "outputs": [],
   "source": [
    "valormedione['Soma'] = valormedione.sum(axis = 1)\n",
    "valormedione = valormedione.sort_values(by = 'Soma', ascending = False)\n",
    "valormedione = valormedione.drop('Soma', axis = 1)"
   ]
  },
  {
   "cell_type": "code",
   "execution_count": null,
   "id": "187622da",
   "metadata": {},
   "outputs": [],
   "source": [
    "fig, axes = plt.subplots(3, 3, sharex = True, sharey = True, figsize = (25, 20))\n",
    "\n",
    "palette = plt.get_cmap('tab10')\n",
    "\n",
    "fig.text(0.085, 0.95, '$\\\\bf{Valor\\ Médio\\ por\\ Internação\\ por\\ Estado\\ da\\ Região\\ Northeast\\ de\\ Jan/2008\\ a\\ Mar/2021}$',\n",
    "         fontsize = 25, color = GRAY4)\n",
    "fig.text(0.085, 0.933, 'Estados Ordenados pelo Somatório do Valor Médio por Internação no Period',\n",
    "         fontsize = 20, color = GRAY6)\n",
    "\n",
    "fig.text(0.085, 0.72, 'Valor Médio por Internação', fontsize = 20, rotation = 'vertical', color = GRAY4)\n",
    "fig.text(0.12, 0.09, 'Period', fontsize = 20, color = GRAY4)\n",
    "\n",
    "num = 0\n",
    "\n",
    "for estado in valormedione.index.tolist():\n",
    "    num += 1\n",
    "    plt.subplot(3, 3, num)\n",
    "    ax = valormedione.loc[estado].T.plot(color = palette(num))\n",
    "    if num in range(7) :\n",
    "        plt.tick_params(labelbottom = False)\n",
    "    if num not in [1,4,7] :\n",
    "        plt.tick_params(labelleft = False)\n",
    "    plt.title(estado, loc = 'left', fontsize = 19, color = GRAY4)\n",
    "    \n",
    "    for i in ax.get_yticklabels() + ax.get_xticklabels():\n",
    "        i.set_fontsize(10)\n",
    "        i.set_color(GRAY4)\n",
    "    \n",
    "    ax.tick_params(color = 'darkgrey')\n",
    "    ax.spines['bottom'].set_color('darkgrey')\n",
    "    ax.spines['left'].set_color('darkgrey')\n",
    "    ax.spines['right'].set_visible(False)\n",
    "    ax.spines['top'].set_visible(False)\n",
    "    \n",
    "\n",
    "plt.show()"
   ]
  },
  {
   "cell_type": "code",
   "execution_count": null,
   "id": "a3b7644e",
   "metadata": {},
   "outputs": [],
   "source": [
    "plt.figure(figsize = (12, 10))\n",
    "\n",
    "for estado in valormedione.index.tolist():\n",
    "    ax = valormedione.loc[estado].T.plot(color = 'lightgrey', linewidth = 1, alpha = 0.8)\n",
    "\n",
    "ax = valormedione.loc['Ceará'].T.plot(color = BLUE1, linewidth = 2.5, alpha = 0.8)\n",
    "\n",
    "plt.ylim(0, 2200)\n",
    "ax.tick_params(color = 'darkgrey')\n",
    "ax.spines['bottom'].set_color('darkgrey')\n",
    "ax.spines['left'].set_color('darkgrey')\n",
    "ax.spines['right'].set_visible(False)\n",
    "ax.spines['top'].set_visible(False)\n",
    "\n",
    "for i in ax.get_yticklabels() + ax.get_xticklabels():\n",
    "    i.set_fontsize(14)\n",
    "    i.set_color(GRAY5)\n",
    "\n",
    "\n",
    "plt.text(435, 2400, '$\\\\bf{Valor\\ Médio\\ por\\ Internação\\ no\\ Ceará\\ de\\ Jan/2008\\ a\\ Mar/2021}$',\n",
    "         fontsize = 25, color = GRAY4)\n",
    "plt.text(435, 2300, 'Compared with other States of the Region',\n",
    "         fontsize = 20, color = GRAY6)\n",
    "\n",
    "plt.text(435, 1200, 'Valor Médio por Internação', fontsize = 20, rotation = 'vertical', color = GRAY6)\n",
    "plt.text(460, -200, 'Period', fontsize = 20, color = GRAY6)\n",
    "\n",
    "plt.show()"
   ]
  },
  {
   "cell_type": "code",
   "execution_count": null,
   "id": "a1d4d891",
   "metadata": {},
   "outputs": [],
   "source": [
    "# importar o aquivo do valor médio das internações no Ceará\n",
    "valor_medio_ce_raw = pd.read_csv('../data/valor_medio_internacao_municipio_ce.csv', sep = ';', encoding = 'ISO-8859-1', skiprows = 3,\n",
    "                            skipfooter = 12, thousands = '.', decimal = ',', engine = 'python')"
   ]
  },
  {
   "cell_type": "code",
   "execution_count": null,
   "id": "68318796",
   "metadata": {},
   "outputs": [],
   "source": [
    "valor_medio_ce_raw.head()"
   ]
  },
  {
   "cell_type": "code",
   "execution_count": null,
   "id": "37341d96",
   "metadata": {},
   "outputs": [],
   "source": [
    "valor_medio_ce = valor_medio_ce_raw.copy()\n",
    "\n",
    "valor_medio_ce['Município'] = valor_medio_ce['Município'].str[7:]\n",
    "\n",
    "valor_medio_ce = valor_medio_ce.set_index('Município').rename_axis(None)"
   ]
  },
  {
   "cell_type": "code",
   "execution_count": null,
   "id": "46d2a377",
   "metadata": {},
   "outputs": [],
   "source": [
    "valor_medio_ce.head(3)"
   ]
  },
  {
   "cell_type": "code",
   "execution_count": null,
   "id": "cb0c50ce",
   "metadata": {},
   "outputs": [],
   "source": [
    "valor_medio_ce.columns.get_loc('2008/Jan')"
   ]
  },
  {
   "cell_type": "code",
   "execution_count": null,
   "id": "80d64c50",
   "metadata": {},
   "outputs": [],
   "source": [
    "# excluir as colunas anteriores a '2008/Jan'\n",
    "valor_medio_ce = valor_medio_ce[valor_medio_ce.columns[8:]]\n",
    "valor_medio_ce.head(3)"
   ]
  },
  {
   "cell_type": "code",
   "execution_count": null,
   "id": "a5f05b4a",
   "metadata": {},
   "outputs": [],
   "source": [
    "valor_medio_ce.info()"
   ]
  },
  {
   "cell_type": "code",
   "execution_count": null,
   "id": "6212ae0c",
   "metadata": {},
   "outputs": [],
   "source": [
    "valor_medio_ce.isna().sum().sum()"
   ]
  },
  {
   "cell_type": "code",
   "execution_count": null,
   "id": "fe5f67d4",
   "metadata": {},
   "outputs": [],
   "source": [
    "valor_medio_ce = valor_medio_ce.fillna(0)"
   ]
  },
  {
   "cell_type": "code",
   "execution_count": null,
   "id": "e724fdd6",
   "metadata": {},
   "outputs": [],
   "source": [
    "valor_medio_ce.isna().sum().sum()"
   ]
  },
  {
   "cell_type": "code",
   "execution_count": null,
   "id": "681427cf",
   "metadata": {},
   "outputs": [],
   "source": [
    "valor_medio_ce.columns[-1]"
   ]
  },
  {
   "cell_type": "code",
   "execution_count": null,
   "id": "0c01cf99",
   "metadata": {},
   "outputs": [],
   "source": [
    "valor_medio_ce = valor_medio_ce.drop('Total', axis = 1)"
   ]
  },
  {
   "cell_type": "code",
   "execution_count": null,
   "id": "bd48360c",
   "metadata": {},
   "outputs": [],
   "source": [
    "valor_medio_ce.columns = pd.to_datetime(valor_medio_ce.columns, format = '%Y/%b')"
   ]
  },
  {
   "cell_type": "code",
   "execution_count": null,
   "id": "899b131e",
   "metadata": {},
   "outputs": [],
   "source": [
    "valor_medio_ce = valor_medio_ce.T"
   ]
  },
  {
   "cell_type": "code",
   "execution_count": null,
   "id": "6dc2d4b5",
   "metadata": {},
   "outputs": [],
   "source": [
    "valor_medio_ce['Soma'] = (valor_medio_ce.drop('Fortaleza', axis = 1).sum(axis = 1))/183"
   ]
  },
  {
   "cell_type": "code",
   "execution_count": null,
   "id": "27b44412",
   "metadata": {},
   "outputs": [],
   "source": [
    "valor_medio_ce = valor_medio_ce[['Fortaleza', 'Soma']]"
   ]
  },
  {
   "cell_type": "code",
   "execution_count": null,
   "id": "1850500b",
   "metadata": {},
   "outputs": [],
   "source": [
    "valor_medio_ce"
   ]
  },
  {
   "cell_type": "code",
   "execution_count": null,
   "id": "41bde8a7",
   "metadata": {},
   "outputs": [],
   "source": [
    "color = [BLUE1, ORANGE1]\n",
    "\n",
    "ax = valor_medio_ce.plot(alpha = 0.8, figsize = (15, 8), color = color, legend = None, linewidth = 2)\n",
    "\n",
    "plt.ylim(0, 2500)\n",
    "ax.tick_params(color = 'darkgrey')\n",
    "ax.spines['bottom'].set_color('darkgrey')\n",
    "ax.spines['left'].set_color('darkgrey')\n",
    "ax.spines['right'].set_visible(False)\n",
    "ax.spines['top'].set_visible(False)\n",
    "\n",
    "for i in ax.get_yticklabels() + ax.get_xticklabels():\n",
    "    i.set_fontsize(14)\n",
    "    i.set_color(GRAY5)\n",
    "    \n",
    "\n",
    "plt.text(442, 2600, '$\\\\bf{Valor\\ Médio\\ por\\ Internação\\ por\\ Município\\ no\\ Ceará\\ de\\ Jan/2008\\ a\\ Mar/2021}$',\n",
    "         fontsize = 25, color = GRAY4)\n",
    "\n",
    "plt.text(442, 1900, 'Valor Médio', fontsize = 20, rotation = 'vertical', color = GRAY6)\n",
    "plt.text(455, -250, 'Period', fontsize = 20, color = GRAY6)\n",
    "\n",
    "plt.text(615, 1500, 'Fortaleza', fontsize = 20, color = BLUE1)\n",
    "plt.text(614, 400, 'Outros Municípios', fontsize = 20, color = ORANGE1)\n",
    "\n",
    "plt.show()"
   ]
  },
  {
   "cell_type": "code",
   "execution_count": null,
   "id": "2d0e2d9d",
   "metadata": {},
   "outputs": [],
   "source": [
    "valor_medio_ce = valor_medio_ce.T\n",
    "valor_medio_ce.shape[1]"
   ]
  },
  {
   "cell_type": "code",
   "execution_count": null,
   "id": "89114ba1",
   "metadata": {},
   "outputs": [],
   "source": [
    "valor_medio_ce['Média'] = valor_medio_ce.sum(axis = 1) / 159"
   ]
  },
  {
   "cell_type": "code",
   "execution_count": null,
   "id": "9688a72d",
   "metadata": {},
   "outputs": [],
   "source": [
    "valor_medio_ce"
   ]
  },
  {
   "cell_type": "code",
   "execution_count": null,
   "id": "2a81c9eb",
   "metadata": {},
   "outputs": [],
   "source": [
    "print('A média do valor gasto com internações em Fortaleza foi de {:,.2f} reais, \\\n",
    "      \\ncontra {:.2f} reais dos outros municípios.'.format(valor_medio_ce['Média']['Fortaleza'],\n",
    "                                                           valor_medio_ce['Média']['Soma']))"
   ]
  }
 ],
 "metadata": {},
 "nbformat": 4,
 "nbformat_minor": 5
}
